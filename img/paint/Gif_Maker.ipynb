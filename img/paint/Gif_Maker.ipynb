{
 "cells": [
  {
   "cell_type": "code",
   "execution_count": 1,
   "metadata": {},
   "outputs": [
    {
     "name": "stdout",
     "output_type": "stream",
     "text": [
      "GIF created successfully!\n"
     ]
    }
   ],
   "source": [
    "import imageio\n",
    "import os\n",
    "import numpy as np\n",
    "from PIL import Image, ImageSequence\n",
    "\n",
    "# Define the size of the GIF frame\n",
    "frame_width = 1600  # Width of the frame\n",
    "frame_height = 900  # Height of the frame\n",
    "background_color = (24, 26, 27)  # Grey background\n",
    "seconds_per_frame = 0.55  # Duration of each frame in seconds\n",
    "\n",
    "file_types_to_convert = [\".png\", \".jpg\", \".jpeg\", \".gif\"]\n",
    "\n",
    "name_of_the_gif = \"path_tracer.gif\"\n",
    "\n",
    "def list_image_files(directory):\n",
    "    \"\"\"List all image files in the specified directory.\"\"\"\n",
    "    image_files = []\n",
    "    for filename in os.listdir(directory):\n",
    "        if any(filename.endswith(ft) for ft in file_types_to_convert):\n",
    "            image_files.append(filename)\n",
    "    return image_files\n",
    "\n",
    "# Specify the directory (current directory in this case)\n",
    "current_directory = os.getcwd()\n",
    "image_paths = list_image_files(current_directory)\n",
    "\n",
    "# Zoom flag: Set True to zoom and crop to fill the frame, False to fit within the frame\n",
    "zoom_in_center = False\n",
    "\n",
    "def process_image(image, frame_width, frame_height, background_color, zoom):\n",
    "    if zoom:\n",
    "        scaling_factor = max(frame_width / image.width, frame_height / image.height)\n",
    "    else:\n",
    "        scaling_factor = min(frame_width / image.width, frame_height / image.height)\n",
    "\n",
    "    new_size = (int(image.width * scaling_factor), int(image.height * scaling_factor))\n",
    "    image = image.resize(new_size, Image.Resampling.LANCZOS)\n",
    "    new_image = Image.new('RGB', (frame_width, frame_height), background_color)\n",
    "    top_left_x = (frame_width - new_size[0]) // 2\n",
    "    top_left_y = (frame_height - new_size[1]) // 2\n",
    "    new_image.paste(image, (top_left_x, top_left_y))\n",
    "    return np.array(new_image)\n",
    "\n",
    "# Create a GIF\n",
    "with imageio.get_writer(name_of_the_gif, mode='I', duration=seconds_per_frame) as writer:\n",
    "    for image_path in image_paths:\n",
    "        image = Image.open(image_path)\n",
    "        \n",
    "        if image_path.endswith(\".gif\"):\n",
    "            # Iterate over each frame in the GIF\n",
    "            for frame in ImageSequence.Iterator(image):\n",
    "                frame = frame.convert(\"RGB\")  # Ensure consistency in color mode\n",
    "                processed_frame = process_image(frame, frame_width, frame_height, background_color, zoom_in_center)\n",
    "                writer.append_data(processed_frame)\n",
    "        else:\n",
    "            # Process a single-frame image\n",
    "            processed_image = process_image(image, frame_width, frame_height, background_color, zoom_in_center)\n",
    "            writer.append_data(processed_image)\n",
    "\n",
    "print(\"GIF created successfully!\")\n"
   ]
  }
 ],
 "metadata": {
  "kernelspec": {
   "display_name": "PyTorch",
   "language": "python",
   "name": "python3"
  },
  "language_info": {
   "codemirror_mode": {
    "name": "ipython",
    "version": 3
   },
   "file_extension": ".py",
   "mimetype": "text/x-python",
   "name": "python",
   "nbconvert_exporter": "python",
   "pygments_lexer": "ipython3",
   "version": "3.10.15"
  }
 },
 "nbformat": 4,
 "nbformat_minor": 2
}
