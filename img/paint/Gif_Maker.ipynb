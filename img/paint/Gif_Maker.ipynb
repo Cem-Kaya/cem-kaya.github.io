{
 "cells": [
  {
   "cell_type": "code",
   "execution_count": 2,
   "metadata": {},
   "outputs": [
    {
     "name": "stdout",
     "output_type": "stream",
     "text": [
      "GIF created successfully!\n"
     ]
    }
   ],
   "source": [
    "import imageio\n",
    "import os\n",
    "import numpy as np\n",
    "from PIL import Image\n",
    "\n",
    "# Define the size of the GIF frame\n",
    "frame_width = 1600  # Width of the frame\n",
    "frame_height = 800  # Height of the frame\n",
    "background_color = (24, 26, 27) # Grey background\n",
    "seconds_per_frame = 0.75  # Duration of each frame in seconds\n",
    "\n",
    "file_type_to_convert = \".png\"\n",
    "\n",
    "\n",
    "name_of_the_gif = \"Electro_Spin.gif\"\n",
    "# List of image paths\n",
    "\n",
    "def list_png_files(directory):\n",
    "    \"\"\"List all PNG files in the specified directory.\"\"\"\n",
    "    # List to store the names of PNG files\n",
    "    png_files = []\n",
    "    \n",
    "    # Loop through each file in the directory\n",
    "    for filename in os.listdir(directory):\n",
    "        # Check if the file is a PNG\n",
    "        if filename.endswith(file_type_to_convert):\n",
    "            png_files.append(filename)\n",
    "    \n",
    "    return png_files\n",
    "\n",
    "# Specify the directory (current directory in this case)\n",
    "current_directory = os.getcwd()\n",
    "image_paths = list_png_files(current_directory)\n",
    "\n",
    "# Zoom flag: Set True to zoom and crop to fill the frame, False to fit within the frame\n",
    "zoom_in_center = False\n",
    "\n",
    "def process_image(image_path, frame_width, frame_height, background_color, zoom):\n",
    "    # Open the image file\n",
    "    image = Image.open(image_path)\n",
    "    if zoom:\n",
    "        # Calculate the scaling factor to fill the frame\n",
    "        scaling_factor = max(frame_width / image.width, frame_height / image.height)\n",
    "    else:\n",
    "        # Calculate the scaling factor to fit in the frame without cropping\n",
    "        scaling_factor = min(frame_width / image.width, frame_height / image.height)\n",
    "\n",
    "    # Resize the image using Lanczos resampling (high-quality)\n",
    "    new_size = (int(image.width * scaling_factor), int(image.height * scaling_factor))\n",
    "    image = image.resize(new_size, Image.Resampling.LANCZOS)\n",
    "\n",
    "    # Create a new image with grey background\n",
    "    new_image = Image.new('RGB', (frame_width, frame_height), background_color)\n",
    "    # Calculate top-left corner coordinates to center the image\n",
    "    top_left_x = (frame_width - new_size[0]) // 2\n",
    "    top_left_y = (frame_height - new_size[1]) // 2\n",
    "    # Paste the resized image onto the grey background\n",
    "    new_image.paste(image, (top_left_x, top_left_y))\n",
    "    # Convert the PIL Image to a NumPy array\n",
    "    return np.array(new_image)\n",
    "\n",
    "# Create a GIF\n",
    "with imageio.get_writer(name_of_the_gif, mode='I', duration=seconds_per_frame) as writer:\n",
    "    for image_path in image_paths:\n",
    "        processed_image = process_image(image_path, frame_width, frame_height, background_color, zoom_in_center)\n",
    "        writer.append_data(processed_image)\n",
    "\n",
    "print(\"GIF created successfully!\")\n"
   ]
  }
 ],
 "metadata": {
  "kernelspec": {
   "display_name": "base",
   "language": "python",
   "name": "python3"
  },
  "language_info": {
   "codemirror_mode": {
    "name": "ipython",
    "version": 3
   },
   "file_extension": ".py",
   "mimetype": "text/x-python",
   "name": "python",
   "nbconvert_exporter": "python",
   "pygments_lexer": "ipython3",
   "version": "3.11.3"
  }
 },
 "nbformat": 4,
 "nbformat_minor": 2
}
